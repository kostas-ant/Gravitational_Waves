{
 "cells": [
  {
   "cell_type": "code",
   "execution_count": 1,
   "metadata": {},
   "outputs": [],
   "source": [
    "import numpy as np\n",
    "import matplotlib.pyplot as plt\n",
    "import scipy.constants as const\n",
    "from matplotlib import animation"
   ]
  },
  {
   "cell_type": "code",
   "execution_count": 2,
   "metadata": {},
   "outputs": [],
   "source": [
    "t = np.arange(0, 100, 0.001)\n",
    "\n",
    "def h(m1, m2, r=1):\n",
    "    Mc = (m1*m2)**(3/5)/(m1+m2)**(1/5)\n",
    "    t_c = (1/(40*np.pi))**(8/3)*5/256*(const.gravitational_constant*Mc*1.9891*10**30/const.c**3)**(-5/3)\n",
    "\n",
    "    tau = t_c - t\n",
    "\n",
    "    phi = -2*(5*const.gravitational_constant*Mc*1.9891*10**30/const.c**3)**(-5/8)*tau**(5/8)\n",
    "    Mpc = 3.085678*10**22\n",
    "    \n",
    "    h_p = 1/(r*Mpc)*(const.gravitational_constant*Mc*1.9891*10**30/const.c**2)**(5/4)*(5/(const.c*tau))**(1/4)*np.cos(phi)\n",
    "\n",
    "    #h_x = 1/(r*Mpc)*(const.gravitational_constant*Mc*1.9891*10**30/const.c**2)**(5/4)*(5/(const.c*tau))**(1/4)*np.sin(phi)\n",
    "    return h_p\n"
   ]
  },
  {
   "cell_type": "code",
   "execution_count": 3,
   "metadata": {},
   "outputs": [
    {
     "name": "stderr",
     "output_type": "stream",
     "text": [
      "/home/jagoras/.local/lib/python3.5/site-packages/ipykernel_launcher.py:9: RuntimeWarning: invalid value encountered in power\n",
      "  if __name__ == '__main__':\n",
      "/home/jagoras/.local/lib/python3.5/site-packages/ipykernel_launcher.py:12: RuntimeWarning: invalid value encountered in power\n",
      "  if sys.path[0] == '':\n"
     ]
    },
    {
     "data": {
      "image/png": "[encoded data removed]",
      "text/plain": [
       "<Figure size 432x288 with 1 Axes>"
      ]
     },
     "metadata": {
      "needs_background": "light"
     },
     "output_type": "display_data"
    }
   ],
   "source": [
    "fig = plt.figure()\n",
    "ax = plt.axes(xlim=(0, 14), ylim=(-2e-19, 2e-19), label='x')\n",
    "ax.set_title('Duration of a GW signal for increasing \\ntotal mass (starting from m$_1$=m$_2$=2M$_\\odot$)')\n",
    "ax.set_xlabel('time (s)')\n",
    "ax.set_ylabel('h$_+$')\n",
    "line, = ax.plot([], [], lw=2)\n",
    "\n",
    "def init():\n",
    "    line.set_data([], [])\n",
    "    return line,\n",
    "\n",
    "def animate(i):\n",
    "    x = np.arange(0, 100, 0.001)\n",
    "    y = h(2+(0.05*i),2+(0.05*i),1)\n",
    "    #y = h(10,5,1+0.1*i)\n",
    "    line.set_data(x, y)\n",
    "    return line,\n",
    "\n",
    "ani = animation.FuncAnimation(fig, animate,init_func=init, frames=150, interval=100, blit=True)\n",
    "ani.save('GW_signal.mp4')\n",
    "plt.show()"
   ]
  },
  {
   "cell_type": "code",
   "execution_count": null,
   "metadata": {},
   "outputs": [],
   "source": []
  }
 ],
 "metadata": {
  "kernelspec": {
   "display_name": "Python 3",
   "language": "python",
   "name": "python3"
  },
  "language_info": {
   "codemirror_mode": {
    "name": "ipython",
    "version": 3
   },
   "file_extension": ".py",
   "mimetype": "text/x-python",
   "name": "python",
   "nbconvert_exporter": "python",
   "pygments_lexer": "ipython3",
   "version": "3.5.2"
  }
 },
 "nbformat": 4,
 "nbformat_minor": 2
}
